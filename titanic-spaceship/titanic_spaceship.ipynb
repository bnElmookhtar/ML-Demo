{
 "cells": [
  {
   "cell_type": "markdown",
   "id": "ae1e8577-424a-43f9-bbb2-d6605b20c1e1",
   "metadata": {},
   "source": [
    "# importing libraries "
   ]
  },
  {
   "cell_type": "code",
   "execution_count": 412,
   "id": "382aa03b-326f-40c4-af48-f9db29324b5c",
   "metadata": {},
   "outputs": [],
   "source": [
    "import numpy as np\n",
    "import pandas as pd\n",
    "import seaborn as sns\n",
    "import matplotlib.pyplot as plt\n",
    "import warnings\n",
    "warnings.filterwarnings('ignore')"
   ]
  },
  {
   "cell_type": "markdown",
   "id": "6057b11f-20c6-4ace-adba-b3a4d0bf674a",
   "metadata": {},
   "source": [
    "# importing datsets "
   ]
  },
  {
   "cell_type": "code",
   "execution_count": 413,
   "id": "fc71e197-5370-4548-8be8-15068dd4a98e",
   "metadata": {},
   "outputs": [],
   "source": [
    "train = pd.read_csv('train.csv')\n",
    "test = pd.read_csv('test.csv')"
   ]
  },
  {
   "cell_type": "markdown",
   "id": "98933250-7a11-42dc-8db7-8c98c4e1cdfd",
   "metadata": {},
   "source": [
    "# data exploration "
   ]
  },
  {
   "cell_type": "code",
   "execution_count": 414,
   "id": "98630237-35ed-4038-bcb9-28c93b17163d",
   "metadata": {},
   "outputs": [
    {
     "data": {
      "text/html": [
       "<div>\n",
       "<style scoped>\n",
       "    .dataframe tbody tr th:only-of-type {\n",
       "        vertical-align: middle;\n",
       "    }\n",
       "\n",
       "    .dataframe tbody tr th {\n",
       "        vertical-align: top;\n",
       "    }\n",
       "\n",
       "    .dataframe thead th {\n",
       "        text-align: right;\n",
       "    }\n",
       "</style>\n",
       "<table border=\"1\" class=\"dataframe\">\n",
       "  <thead>\n",
       "    <tr style=\"text-align: right;\">\n",
       "      <th></th>\n",
       "      <th>PassengerId</th>\n",
       "      <th>HomePlanet</th>\n",
       "      <th>CryoSleep</th>\n",
       "      <th>Cabin</th>\n",
       "      <th>Destination</th>\n",
       "      <th>Age</th>\n",
       "      <th>VIP</th>\n",
       "      <th>RoomService</th>\n",
       "      <th>FoodCourt</th>\n",
       "      <th>ShoppingMall</th>\n",
       "      <th>Spa</th>\n",
       "      <th>VRDeck</th>\n",
       "      <th>Name</th>\n",
       "      <th>Transported</th>\n",
       "    </tr>\n",
       "  </thead>\n",
       "  <tbody>\n",
       "    <tr>\n",
       "      <th>0</th>\n",
       "      <td>0001_01</td>\n",
       "      <td>Europa</td>\n",
       "      <td>False</td>\n",
       "      <td>B/0/P</td>\n",
       "      <td>TRAPPIST-1e</td>\n",
       "      <td>39.0</td>\n",
       "      <td>False</td>\n",
       "      <td>0.0</td>\n",
       "      <td>0.0</td>\n",
       "      <td>0.0</td>\n",
       "      <td>0.0</td>\n",
       "      <td>0.0</td>\n",
       "      <td>Maham Ofracculy</td>\n",
       "      <td>False</td>\n",
       "    </tr>\n",
       "    <tr>\n",
       "      <th>1</th>\n",
       "      <td>0002_01</td>\n",
       "      <td>Earth</td>\n",
       "      <td>False</td>\n",
       "      <td>F/0/S</td>\n",
       "      <td>TRAPPIST-1e</td>\n",
       "      <td>24.0</td>\n",
       "      <td>False</td>\n",
       "      <td>109.0</td>\n",
       "      <td>9.0</td>\n",
       "      <td>25.0</td>\n",
       "      <td>549.0</td>\n",
       "      <td>44.0</td>\n",
       "      <td>Juanna Vines</td>\n",
       "      <td>True</td>\n",
       "    </tr>\n",
       "    <tr>\n",
       "      <th>2</th>\n",
       "      <td>0003_01</td>\n",
       "      <td>Europa</td>\n",
       "      <td>False</td>\n",
       "      <td>A/0/S</td>\n",
       "      <td>TRAPPIST-1e</td>\n",
       "      <td>58.0</td>\n",
       "      <td>True</td>\n",
       "      <td>43.0</td>\n",
       "      <td>3576.0</td>\n",
       "      <td>0.0</td>\n",
       "      <td>6715.0</td>\n",
       "      <td>49.0</td>\n",
       "      <td>Altark Susent</td>\n",
       "      <td>False</td>\n",
       "    </tr>\n",
       "    <tr>\n",
       "      <th>3</th>\n",
       "      <td>0003_02</td>\n",
       "      <td>Europa</td>\n",
       "      <td>False</td>\n",
       "      <td>A/0/S</td>\n",
       "      <td>TRAPPIST-1e</td>\n",
       "      <td>33.0</td>\n",
       "      <td>False</td>\n",
       "      <td>0.0</td>\n",
       "      <td>1283.0</td>\n",
       "      <td>371.0</td>\n",
       "      <td>3329.0</td>\n",
       "      <td>193.0</td>\n",
       "      <td>Solam Susent</td>\n",
       "      <td>False</td>\n",
       "    </tr>\n",
       "    <tr>\n",
       "      <th>4</th>\n",
       "      <td>0004_01</td>\n",
       "      <td>Earth</td>\n",
       "      <td>False</td>\n",
       "      <td>F/1/S</td>\n",
       "      <td>TRAPPIST-1e</td>\n",
       "      <td>16.0</td>\n",
       "      <td>False</td>\n",
       "      <td>303.0</td>\n",
       "      <td>70.0</td>\n",
       "      <td>151.0</td>\n",
       "      <td>565.0</td>\n",
       "      <td>2.0</td>\n",
       "      <td>Willy Santantines</td>\n",
       "      <td>True</td>\n",
       "    </tr>\n",
       "  </tbody>\n",
       "</table>\n",
       "</div>"
      ],
      "text/plain": [
       "  PassengerId HomePlanet CryoSleep  Cabin  Destination   Age    VIP  \\\n",
       "0     0001_01     Europa     False  B/0/P  TRAPPIST-1e  39.0  False   \n",
       "1     0002_01      Earth     False  F/0/S  TRAPPIST-1e  24.0  False   \n",
       "2     0003_01     Europa     False  A/0/S  TRAPPIST-1e  58.0   True   \n",
       "3     0003_02     Europa     False  A/0/S  TRAPPIST-1e  33.0  False   \n",
       "4     0004_01      Earth     False  F/1/S  TRAPPIST-1e  16.0  False   \n",
       "\n",
       "   RoomService  FoodCourt  ShoppingMall     Spa  VRDeck               Name  \\\n",
       "0          0.0        0.0           0.0     0.0     0.0    Maham Ofracculy   \n",
       "1        109.0        9.0          25.0   549.0    44.0       Juanna Vines   \n",
       "2         43.0     3576.0           0.0  6715.0    49.0      Altark Susent   \n",
       "3          0.0     1283.0         371.0  3329.0   193.0       Solam Susent   \n",
       "4        303.0       70.0         151.0   565.0     2.0  Willy Santantines   \n",
       "\n",
       "   Transported  \n",
       "0        False  \n",
       "1         True  \n",
       "2        False  \n",
       "3        False  \n",
       "4         True  "
      ]
     },
     "execution_count": 414,
     "metadata": {},
     "output_type": "execute_result"
    }
   ],
   "source": [
    "train.head()"
   ]
  },
  {
   "cell_type": "code",
   "execution_count": 415,
   "id": "7199f127-d734-4736-bba5-d11b0eb22d86",
   "metadata": {},
   "outputs": [
    {
     "data": {
      "text/plain": [
       "(8693, 14)"
      ]
     },
     "execution_count": 415,
     "metadata": {},
     "output_type": "execute_result"
    }
   ],
   "source": [
    "train.shape"
   ]
  },
  {
   "cell_type": "code",
   "execution_count": 416,
   "id": "907c1dbe-55c4-4f39-a260-86cc78f4276a",
   "metadata": {},
   "outputs": [
    {
     "name": "stdout",
     "output_type": "stream",
     "text": [
      "<class 'pandas.core.frame.DataFrame'>\n",
      "RangeIndex: 8693 entries, 0 to 8692\n",
      "Data columns (total 14 columns):\n",
      " #   Column        Non-Null Count  Dtype  \n",
      "---  ------        --------------  -----  \n",
      " 0   PassengerId   8693 non-null   object \n",
      " 1   HomePlanet    8492 non-null   object \n",
      " 2   CryoSleep     8476 non-null   object \n",
      " 3   Cabin         8494 non-null   object \n",
      " 4   Destination   8511 non-null   object \n",
      " 5   Age           8514 non-null   float64\n",
      " 6   VIP           8490 non-null   object \n",
      " 7   RoomService   8512 non-null   float64\n",
      " 8   FoodCourt     8510 non-null   float64\n",
      " 9   ShoppingMall  8485 non-null   float64\n",
      " 10  Spa           8510 non-null   float64\n",
      " 11  VRDeck        8505 non-null   float64\n",
      " 12  Name          8493 non-null   object \n",
      " 13  Transported   8693 non-null   bool   \n",
      "dtypes: bool(1), float64(6), object(7)\n",
      "memory usage: 891.5+ KB\n"
     ]
    }
   ],
   "source": [
    "train.info()"
   ]
  },
  {
   "cell_type": "code",
   "execution_count": 417,
   "id": "e3d30a92-e63d-455d-a5df-0ed2b375cd25",
   "metadata": {},
   "outputs": [
    {
     "data": {
      "text/html": [
       "<div>\n",
       "<style scoped>\n",
       "    .dataframe tbody tr th:only-of-type {\n",
       "        vertical-align: middle;\n",
       "    }\n",
       "\n",
       "    .dataframe tbody tr th {\n",
       "        vertical-align: top;\n",
       "    }\n",
       "\n",
       "    .dataframe thead th {\n",
       "        text-align: right;\n",
       "    }\n",
       "</style>\n",
       "<table border=\"1\" class=\"dataframe\">\n",
       "  <thead>\n",
       "    <tr style=\"text-align: right;\">\n",
       "      <th></th>\n",
       "      <th>Age</th>\n",
       "      <th>RoomService</th>\n",
       "      <th>FoodCourt</th>\n",
       "      <th>ShoppingMall</th>\n",
       "      <th>Spa</th>\n",
       "      <th>VRDeck</th>\n",
       "    </tr>\n",
       "  </thead>\n",
       "  <tbody>\n",
       "    <tr>\n",
       "      <th>count</th>\n",
       "      <td>8514.000000</td>\n",
       "      <td>8512.000000</td>\n",
       "      <td>8510.000000</td>\n",
       "      <td>8485.000000</td>\n",
       "      <td>8510.000000</td>\n",
       "      <td>8505.000000</td>\n",
       "    </tr>\n",
       "    <tr>\n",
       "      <th>mean</th>\n",
       "      <td>28.827930</td>\n",
       "      <td>224.687617</td>\n",
       "      <td>458.077203</td>\n",
       "      <td>173.729169</td>\n",
       "      <td>311.138778</td>\n",
       "      <td>304.854791</td>\n",
       "    </tr>\n",
       "    <tr>\n",
       "      <th>std</th>\n",
       "      <td>14.489021</td>\n",
       "      <td>666.717663</td>\n",
       "      <td>1611.489240</td>\n",
       "      <td>604.696458</td>\n",
       "      <td>1136.705535</td>\n",
       "      <td>1145.717189</td>\n",
       "    </tr>\n",
       "    <tr>\n",
       "      <th>min</th>\n",
       "      <td>0.000000</td>\n",
       "      <td>0.000000</td>\n",
       "      <td>0.000000</td>\n",
       "      <td>0.000000</td>\n",
       "      <td>0.000000</td>\n",
       "      <td>0.000000</td>\n",
       "    </tr>\n",
       "    <tr>\n",
       "      <th>25%</th>\n",
       "      <td>19.000000</td>\n",
       "      <td>0.000000</td>\n",
       "      <td>0.000000</td>\n",
       "      <td>0.000000</td>\n",
       "      <td>0.000000</td>\n",
       "      <td>0.000000</td>\n",
       "    </tr>\n",
       "    <tr>\n",
       "      <th>50%</th>\n",
       "      <td>27.000000</td>\n",
       "      <td>0.000000</td>\n",
       "      <td>0.000000</td>\n",
       "      <td>0.000000</td>\n",
       "      <td>0.000000</td>\n",
       "      <td>0.000000</td>\n",
       "    </tr>\n",
       "    <tr>\n",
       "      <th>75%</th>\n",
       "      <td>38.000000</td>\n",
       "      <td>47.000000</td>\n",
       "      <td>76.000000</td>\n",
       "      <td>27.000000</td>\n",
       "      <td>59.000000</td>\n",
       "      <td>46.000000</td>\n",
       "    </tr>\n",
       "    <tr>\n",
       "      <th>max</th>\n",
       "      <td>79.000000</td>\n",
       "      <td>14327.000000</td>\n",
       "      <td>29813.000000</td>\n",
       "      <td>23492.000000</td>\n",
       "      <td>22408.000000</td>\n",
       "      <td>24133.000000</td>\n",
       "    </tr>\n",
       "  </tbody>\n",
       "</table>\n",
       "</div>"
      ],
      "text/plain": [
       "               Age   RoomService     FoodCourt  ShoppingMall           Spa  \\\n",
       "count  8514.000000   8512.000000   8510.000000   8485.000000   8510.000000   \n",
       "mean     28.827930    224.687617    458.077203    173.729169    311.138778   \n",
       "std      14.489021    666.717663   1611.489240    604.696458   1136.705535   \n",
       "min       0.000000      0.000000      0.000000      0.000000      0.000000   \n",
       "25%      19.000000      0.000000      0.000000      0.000000      0.000000   \n",
       "50%      27.000000      0.000000      0.000000      0.000000      0.000000   \n",
       "75%      38.000000     47.000000     76.000000     27.000000     59.000000   \n",
       "max      79.000000  14327.000000  29813.000000  23492.000000  22408.000000   \n",
       "\n",
       "             VRDeck  \n",
       "count   8505.000000  \n",
       "mean     304.854791  \n",
       "std     1145.717189  \n",
       "min        0.000000  \n",
       "25%        0.000000  \n",
       "50%        0.000000  \n",
       "75%       46.000000  \n",
       "max    24133.000000  "
      ]
     },
     "execution_count": 417,
     "metadata": {},
     "output_type": "execute_result"
    }
   ],
   "source": [
    "train.describe()"
   ]
  },
  {
   "cell_type": "code",
   "execution_count": 418,
   "id": "6b9b93ea-f485-4701-9afd-fe654df00f23",
   "metadata": {},
   "outputs": [
    {
     "data": {
      "text/plain": [
       "PassengerId       0\n",
       "HomePlanet      201\n",
       "CryoSleep       217\n",
       "Cabin           199\n",
       "Destination     182\n",
       "Age             179\n",
       "VIP             203\n",
       "RoomService     181\n",
       "FoodCourt       183\n",
       "ShoppingMall    208\n",
       "Spa             183\n",
       "VRDeck          188\n",
       "Name            200\n",
       "Transported       0\n",
       "dtype: int64"
      ]
     },
     "execution_count": 418,
     "metadata": {},
     "output_type": "execute_result"
    }
   ],
   "source": [
    "train.isnull().sum()"
   ]
  },
  {
   "cell_type": "markdown",
   "id": "9260b00d-a5fc-4547-9f03-28dfd912d9c3",
   "metadata": {},
   "source": [
    "# cleaning data "
   ]
  },
  {
   "cell_type": "code",
   "execution_count": 419,
   "id": "c584300e-c031-4ab6-99ef-a5a098963827",
   "metadata": {},
   "outputs": [],
   "source": [
    "def cleaning_data(data):\n",
    "   # data['Groub_num'] = train['PassengerId'].apply(lambda x:x.split('_')[0])\n",
    "   # data['Passenger_num'] = train['PassengerId'].apply(lambda x:x.split('_')[1])\n",
    "    data['HomePlanet'].fillna(data['HomePlanet'].mode()[0],inplace=True)\n",
    "    data['Cabin'].fillna(data['Cabin'].mode()[0],inplace = True)\n",
    "    data['Destination'].fillna(data['Destination'].mode()[0],inplace = True)\n",
    "    data['Age'].fillna(data['Age'].mean(),inplace=True)\n",
    "    data['CryoSleep'].fillna(False,inplace=True)\n",
    "    data['RoomService'].fillna(data['RoomService'].mean(),inplace = True)\n",
    "    data['VIP'].fillna(True,inplace=True)\n",
    "    data['Spa'].fillna(data['Spa'].mean(),inplace = True)\n",
    "    data['ShoppingMall'].fillna(data['ShoppingMall'].mean(),inplace = True)\n",
    "    data['VRDeck'].fillna(data['VRDeck'].mean(),inplace = True)\n",
    "    data['FoodCourt'].fillna(data['FoodCourt'].mean(),inplace = True)\n",
    "    data = data.drop(columns = ['Name'],inplace=True)\n",
    "    "
   ]
  },
  {
   "cell_type": "code",
   "execution_count": 420,
   "id": "f5ee3794-b7f8-4643-9359-4b8e3a80e9ed",
   "metadata": {},
   "outputs": [
    {
     "data": {
      "text/plain": [
       "0       0013_01\n",
       "1       0018_01\n",
       "2       0019_01\n",
       "3       0021_01\n",
       "4       0023_01\n",
       "         ...   \n",
       "4272    9266_02\n",
       "4273    9269_01\n",
       "4274    9271_01\n",
       "4275    9273_01\n",
       "4276    9277_01\n",
       "Name: PassengerId, Length: 4277, dtype: object"
      ]
     },
     "execution_count": 420,
     "metadata": {},
     "output_type": "execute_result"
    }
   ],
   "source": [
    "passenger_id = test.PassengerId\n",
    "passenger_id"
   ]
  },
  {
   "cell_type": "code",
   "execution_count": 421,
   "id": "434518f9-92fb-4e2b-b528-4f46ab551665",
   "metadata": {},
   "outputs": [],
   "source": [
    "cleaning_data(train)\n",
    "cleaning_data(test)"
   ]
  },
  {
   "cell_type": "code",
   "execution_count": 422,
   "id": "600f4dc1-2b71-491c-ae8f-1719881d1301",
   "metadata": {},
   "outputs": [
    {
     "data": {
      "text/html": [
       "<div>\n",
       "<style scoped>\n",
       "    .dataframe tbody tr th:only-of-type {\n",
       "        vertical-align: middle;\n",
       "    }\n",
       "\n",
       "    .dataframe tbody tr th {\n",
       "        vertical-align: top;\n",
       "    }\n",
       "\n",
       "    .dataframe thead th {\n",
       "        text-align: right;\n",
       "    }\n",
       "</style>\n",
       "<table border=\"1\" class=\"dataframe\">\n",
       "  <thead>\n",
       "    <tr style=\"text-align: right;\">\n",
       "      <th></th>\n",
       "      <th>PassengerId</th>\n",
       "      <th>HomePlanet</th>\n",
       "      <th>CryoSleep</th>\n",
       "      <th>Cabin</th>\n",
       "      <th>Destination</th>\n",
       "      <th>Age</th>\n",
       "      <th>VIP</th>\n",
       "      <th>RoomService</th>\n",
       "      <th>FoodCourt</th>\n",
       "      <th>ShoppingMall</th>\n",
       "      <th>Spa</th>\n",
       "      <th>VRDeck</th>\n",
       "      <th>Transported</th>\n",
       "    </tr>\n",
       "  </thead>\n",
       "  <tbody>\n",
       "    <tr>\n",
       "      <th>535</th>\n",
       "      <td>0569_01</td>\n",
       "      <td>Earth</td>\n",
       "      <td>False</td>\n",
       "      <td>F/116/P</td>\n",
       "      <td>TRAPPIST-1e</td>\n",
       "      <td>23.0</td>\n",
       "      <td>False</td>\n",
       "      <td>0.0</td>\n",
       "      <td>334.0</td>\n",
       "      <td>310.0</td>\n",
       "      <td>0.0</td>\n",
       "      <td>0.0</td>\n",
       "      <td>True</td>\n",
       "    </tr>\n",
       "  </tbody>\n",
       "</table>\n",
       "</div>"
      ],
      "text/plain": [
       "    PassengerId HomePlanet  CryoSleep    Cabin  Destination   Age    VIP  \\\n",
       "535     0569_01      Earth      False  F/116/P  TRAPPIST-1e  23.0  False   \n",
       "\n",
       "     RoomService  FoodCourt  ShoppingMall  Spa  VRDeck  Transported  \n",
       "535          0.0      334.0         310.0  0.0     0.0         True  "
      ]
     },
     "execution_count": 422,
     "metadata": {},
     "output_type": "execute_result"
    }
   ],
   "source": [
    "train.sample()"
   ]
  },
  {
   "cell_type": "code",
   "execution_count": null,
   "id": "73d27fa5-c18a-498e-8208-84cf0887b946",
   "metadata": {},
   "outputs": [],
   "source": []
  },
  {
   "cell_type": "markdown",
   "id": "109989aa-3a61-430c-bbbc-2dc57952a8d4",
   "metadata": {},
   "source": [
    "# encoding categorical "
   ]
  },
  {
   "cell_type": "code",
   "execution_count": 423,
   "id": "8406d5c1-a1ea-4d02-ac3f-b257073ba5d0",
   "metadata": {},
   "outputs": [],
   "source": [
    "from sklearn.preprocessing import LabelEncoder\n",
    "def encode_categorical(data): \n",
    "    LE = LabelEncoder()\n",
    "    for feature in data.columns:\n",
    "        if data[feature].dtype == object:\n",
    "            data[feature] = LE.fit_transform(data[feature])\n",
    "    \n",
    "    data['VIP'] = data['VIP'].astype(int)\n",
    "    data['CryoSleep'] = data['CryoSleep'].astype(int)\n",
    "    if data is train:\n",
    "        data['Transported'] = data['Transported'].astype(int)\n"
   ]
  },
  {
   "cell_type": "code",
   "execution_count": 424,
   "id": "7825af57-e058-4c11-8af2-af77057e2b61",
   "metadata": {},
   "outputs": [],
   "source": [
    "encode_categorical(train)\n",
    "encode_categorical(test)"
   ]
  },
  {
   "cell_type": "code",
   "execution_count": 425,
   "id": "4ddae171-5858-4eb2-9375-b9a902fa32e5",
   "metadata": {},
   "outputs": [
    {
     "data": {
      "text/plain": [
       "PassengerId     0\n",
       "HomePlanet      0\n",
       "CryoSleep       0\n",
       "Cabin           0\n",
       "Destination     0\n",
       "Age             0\n",
       "VIP             0\n",
       "RoomService     0\n",
       "FoodCourt       0\n",
       "ShoppingMall    0\n",
       "Spa             0\n",
       "VRDeck          0\n",
       "dtype: int64"
      ]
     },
     "execution_count": 425,
     "metadata": {},
     "output_type": "execute_result"
    }
   ],
   "source": [
    "test.isnull().sum()"
   ]
  },
  {
   "cell_type": "code",
   "execution_count": 426,
   "id": "ec08ddfc-ef78-4fad-b6b8-28a9c97824f4",
   "metadata": {},
   "outputs": [
    {
     "name": "stdout",
     "output_type": "stream",
     "text": [
      "<class 'pandas.core.frame.DataFrame'>\n",
      "RangeIndex: 8693 entries, 0 to 8692\n",
      "Data columns (total 13 columns):\n",
      " #   Column        Non-Null Count  Dtype  \n",
      "---  ------        --------------  -----  \n",
      " 0   PassengerId   8693 non-null   int32  \n",
      " 1   HomePlanet    8693 non-null   int32  \n",
      " 2   CryoSleep     8693 non-null   int32  \n",
      " 3   Cabin         8693 non-null   int32  \n",
      " 4   Destination   8693 non-null   int32  \n",
      " 5   Age           8693 non-null   float64\n",
      " 6   VIP           8693 non-null   int32  \n",
      " 7   RoomService   8693 non-null   float64\n",
      " 8   FoodCourt     8693 non-null   float64\n",
      " 9   ShoppingMall  8693 non-null   float64\n",
      " 10  Spa           8693 non-null   float64\n",
      " 11  VRDeck        8693 non-null   float64\n",
      " 12  Transported   8693 non-null   int32  \n",
      "dtypes: float64(6), int32(7)\n",
      "memory usage: 645.3 KB\n"
     ]
    }
   ],
   "source": [
    "train.info()"
   ]
  },
  {
   "cell_type": "markdown",
   "id": "9069b114-566f-4291-81d0-61a62e2d4061",
   "metadata": {},
   "source": [
    "# find relation using plots "
   ]
  },
  {
   "cell_type": "code",
   "execution_count": 427,
   "id": "2fe4dd74-7157-4a2e-9803-c913bd495d53",
   "metadata": {},
   "outputs": [
    {
     "data": {
      "text/plain": [
       "([<matplotlib.patches.Wedge at 0x1dec539f110>,\n",
       "  <matplotlib.patches.Wedge at 0x1dec539fe10>,\n",
       "  <matplotlib.patches.Wedge at 0x1dec51a5210>],\n",
       " [Text(-0.18065168624423047, 1.085064499583834, '0'),\n",
       "  Text(-0.4988757573000686, -0.9803687973300064, '1'),\n",
       "  Text(0.8851278775740179, -0.6531069134079922, '2')],\n",
       " [Text(-0.09853728340594388, 0.591853363409364, '55.25%'),\n",
       "  Text(-0.27211404943640105, -0.534746616725458, '24.51%'),\n",
       "  Text(0.48279702413128245, -0.35624013458617754, '20.23%')])"
      ]
     },
     "execution_count": 427,
     "metadata": {},
     "output_type": "execute_result"
    },
    {
     "data": {
      "image/png": "[encoded data removed]",
      "text/plain": [
       "<Figure size 640x480 with 1 Axes>"
      ]
     },
     "metadata": {},
     "output_type": "display_data"
    }
   ],
   "source": [
    "home_planet = train['HomePlanet'].value_counts()\n",
    "plt.pie(home_planet.values,labels=home_planet.index,autopct='%.2f%%')"
   ]
  },
  {
   "cell_type": "code",
   "execution_count": 428,
   "id": "7c078ee8-9046-4e03-97c5-0fbe8457fe51",
   "metadata": {},
   "outputs": [
    {
     "data": {
      "text/plain": [
       "Text(0, 0.5, 'number of passengers in this age')"
      ]
     },
     "execution_count": 428,
     "metadata": {},
     "output_type": "execute_result"
    },
    {
     "data": {
      "image/png": "[encoded data removed]",
      "text/plain": [
       "<Figure size 640x480 with 1 Axes>"
      ]
     },
     "metadata": {},
     "output_type": "display_data"
    }
   ],
   "source": [
    "plt.hist(train['Age'],color='g',edgecolor='w')\n",
    "plt.xlabel('Age')\n",
    "plt.ylabel('number of passengers in this age')"
   ]
  },
  {
   "cell_type": "markdown",
   "id": "f56cf1d3-ac5c-40f9-9626-4a6d885ebea8",
   "metadata": {},
   "source": [
    "\n",
    "    Cabin          8693 non-null   int32  \n",
    " 4   Destination    8693 non-null   int32  \n",
    " 7   RoomService    8693 non-null   float64\n",
    " 8   FoodCourt      8693 non-null   float64\n",
    " 9   ShoppingMall   8693 non-null   float64\n",
    " 10  Spa            8693 non-null   float64\n",
    " 11  VRDeck         8693 non-null   float64\n",
    " 12  Transported    8693 non-null   int32  \n",
    " 13  Group_num      8693 non-null   int32  \n",
    " 14  Passenger_num  8693 non-null   int32  \n",
    "dtypes: float64(6), int32(9)"
   ]
  },
  {
   "cell_type": "code",
   "execution_count": 429,
   "id": "db89a619-79da-4945-a685-3a3430da40ee",
   "metadata": {},
   "outputs": [
    {
     "data": {
      "text/plain": [
       "([<matplotlib.patches.Wedge at 0x1dec52031d0>,\n",
       "  <matplotlib.patches.Wedge at 0x1dec52544d0>],\n",
       " [Text(-0.5013544278510114, 0.9791035377702325, '0'),\n",
       "  Text(0.5013545195212984, -0.9791034908300389, '1')],\n",
       " [Text(-0.27346605155509707, 0.5340564751473995, '65.06%'),\n",
       "  Text(0.27346610155707185, -0.5340564495436575, '34.94%')])"
      ]
     },
     "execution_count": 429,
     "metadata": {},
     "output_type": "execute_result"
    },
    {
     "data": {
      "image/png": "[encoded data removed]",
      "text/plain": [
       "<Figure size 640x480 with 1 Axes>"
      ]
     },
     "metadata": {},
     "output_type": "display_data"
    }
   ],
   "source": [
    "cryo_sleep = train['CryoSleep'].value_counts()\n",
    "plt.pie(cryo_sleep.values,labels=cryo_sleep.index,autopct='%.2f%%')"
   ]
  },
  {
   "cell_type": "code",
   "execution_count": 430,
   "id": "7d47b17e-9c3e-49b4-904b-18edcb841fcb",
   "metadata": {},
   "outputs": [
    {
     "data": {
      "text/plain": [
       "([<matplotlib.patches.Wedge at 0x1dec528da10>,\n",
       "  <matplotlib.patches.Wedge at 0x1dec528f3d0>],\n",
       " [Text(-1.0884119378321695, 0.1592465182803749, '0'),\n",
       "  Text(1.088411947150752, -0.15924645459007486, '1')],\n",
       " [Text(-0.5936792388175469, 0.08686173724384084, '95.38%'),\n",
       "  Text(0.5936792439004102, -0.0868617025036772, '4.62%')])"
      ]
     },
     "execution_count": 430,
     "metadata": {},
     "output_type": "execute_result"
    },
    {
     "data": {
      "image/png": "[encoded data removed]",
      "text/plain": [
       "<Figure size 640x480 with 1 Axes>"
      ]
     },
     "metadata": {},
     "output_type": "display_data"
    }
   ],
   "source": [
    "vip = train['VIP'].value_counts()\n",
    "plt.pie(vip.values,labels=vip.index,autopct='%.2f%%')"
   ]
  },
  {
   "cell_type": "code",
   "execution_count": 431,
   "id": "801b8841-6d8c-45b0-ac5e-a83372cade2e",
   "metadata": {},
   "outputs": [
    {
     "data": {
      "text/plain": [
       "<Axes: >"
      ]
     },
     "execution_count": 431,
     "metadata": {},
     "output_type": "execute_result"
    },
    {
     "data": {
      "image/png": "[encoded data removed]",
      "text/plain": [
       "<Figure size 640x480 with 2 Axes>"
      ]
     },
     "metadata": {},
     "output_type": "display_data"
    }
   ],
   "source": [
    "corr = train.corr()\n",
    "sns.heatmap(corr,annot=True,fmt='.2f',cmap='coolwarm')"
   ]
  },
  {
   "cell_type": "code",
   "execution_count": 432,
   "id": "714eaa1c-5c6f-4c51-ba58-61db65f6c91b",
   "metadata": {},
   "outputs": [],
   "source": [
    "X = train.drop('Transported',axis= 1)\n",
    "y = train.Transported"
   ]
  },
  {
   "cell_type": "code",
   "execution_count": 433,
   "id": "2ddea993-cc3f-496a-965b-e04a955eac61",
   "metadata": {},
   "outputs": [],
   "source": [
    "from sklearn.model_selection import train_test_split\n",
    "x_train, x_test, y_train, y_test  = train_test_split(X,y,test_size=.4,random_state=0)"
   ]
  },
  {
   "cell_type": "code",
   "execution_count": 434,
   "id": "7d682019-c565-4a5c-8fa5-15e2af36e69f",
   "metadata": {},
   "outputs": [],
   "source": [
    "from sklearn.metrics import accuracy_score, confusion_matrix\n",
    "def training_model(model):\n",
    "    model.fit(x_train,y_train)\n",
    "    y_predict = model.predict(x_test)\n",
    "    acc = accuracy_score(y_test,y_predict)\n",
    "    cm = confusion_matrix(y_predict,y_test)\n",
    "    return acc,cm\n",
    "    "
   ]
  },
  {
   "cell_type": "code",
   "execution_count": 435,
   "id": "f05a32f7-65fe-4347-992c-a0b9eef62b4d",
   "metadata": {},
   "outputs": [
    {
     "data": {
      "text/plain": [
       "[{'accurecy': 0.7866589994249569,\n",
       "  'Confusion metraix': array([[1241,  253],\n",
       "         [ 489, 1495]], dtype=int64)},\n",
       " {'accurecy': 0.7671075330649799,\n",
       "  'Confusion metraix': array([[1321,  401],\n",
       "         [ 409, 1347]], dtype=int64)},\n",
       " {'accurecy': 0.6894767107533065,\n",
       "  'Confusion metraix': array([[ 762,  112],\n",
       "         [ 968, 1636]], dtype=int64)},\n",
       " {'accurecy': 0.7757331799884991,\n",
       "  'Confusion metraix': array([[1115,  165],\n",
       "         [ 615, 1583]], dtype=int64)},\n",
       " {'accurecy': 0.7489936745255894,\n",
       "  'Confusion metraix': array([[1257,  400],\n",
       "         [ 473, 1348]], dtype=int64)},\n",
       " {'accurecy': 0.7912593444508338,\n",
       "  'Confusion metraix': array([[1391,  387],\n",
       "         [ 339, 1361]], dtype=int64)}]"
      ]
     },
     "execution_count": 435,
     "metadata": {},
     "output_type": "execute_result"
    }
   ],
   "source": [
    "from sklearn.linear_model import LogisticRegression\n",
    "from sklearn.tree import DecisionTreeClassifier\n",
    "from sklearn.naive_bayes import GaussianNB\n",
    "from sklearn.svm import SVC\n",
    "from sklearn.neighbors import KNeighborsClassifier\n",
    "from sklearn.ensemble import RandomForestClassifier\n",
    "\n",
    "classifiers = [LogisticRegression(),\n",
    "               DecisionTreeClassifier(max_leaf_nodes=10),\n",
    "               GaussianNB(),\n",
    "               SVC(),\n",
    "               KNeighborsClassifier(n_neighbors=5),\n",
    "               RandomForestClassifier(),\n",
    "              ]\n",
    "results = []\n",
    "for classifier in classifiers:\n",
    "    acc,cm = training_model(classifier)\n",
    "    results.append({'accurecy':acc,'Confusion metraix':cm})\n",
    "results\n"
   ]
  },
  {
   "cell_type": "code",
   "execution_count": 436,
   "id": "0c06b6d0-0984-49e9-ab7b-0c676ec68e6b",
   "metadata": {},
   "outputs": [],
   "source": [
    "val_X = test"
   ]
  },
  {
   "cell_type": "code",
   "execution_count": 437,
   "id": "ccc7d435-18ed-49fc-a694-e6cb878d59ac",
   "metadata": {},
   "outputs": [],
   "source": [
    "classifier = RandomForestClassifier()\n",
    "classifier.fit(x_train,y_train)\n",
    "y_predict = classifier.predict(val_X)\n",
    "y_predict = y_predict.astype(bool)"
   ]
  },
  {
   "cell_type": "code",
   "execution_count": 438,
   "id": "87b6187f-1fd5-4e2d-8550-7f4cace7b7bb",
   "metadata": {},
   "outputs": [],
   "source": [
    "y_predict_df = pd.DataFrame(y_predict, columns=['Transported'])"
   ]
  },
  {
   "cell_type": "code",
   "execution_count": 442,
   "id": "4d4687ea-481e-46e7-9c1c-a3816debdd9d",
   "metadata": {},
   "outputs": [],
   "source": [
    "submition = pd.concat([passenger_id,y_predict_df],axis=1)"
   ]
  },
  {
   "cell_type": "code",
   "execution_count": 443,
   "id": "44b3b7b1-6a38-467b-b06e-63105fad0b2a",
   "metadata": {},
   "outputs": [
    {
     "name": "stdout",
     "output_type": "stream",
     "text": [
      "DataFrame saved to 'result.csv'\n"
     ]
    }
   ],
   "source": [
    "submition.to_csv('result.csv', index=False)\n",
    "\n",
    "print(\"DataFrame saved to 'result.csv'\")"
   ]
  },
  {
   "cell_type": "code",
   "execution_count": 441,
   "id": "f3c83800-0c32-462c-8487-f9303384a016",
   "metadata": {},
   "outputs": [
    {
     "data": {
      "text/plain": [
       "0       0013_01\n",
       "1       0018_01\n",
       "2       0019_01\n",
       "3       0021_01\n",
       "4       0023_01\n",
       "         ...   \n",
       "4272    9266_02\n",
       "4273    9269_01\n",
       "4274    9271_01\n",
       "4275    9273_01\n",
       "4276    9277_01\n",
       "Name: PassengerId, Length: 4277, dtype: object"
      ]
     },
     "execution_count": 441,
     "metadata": {},
     "output_type": "execute_result"
    }
   ],
   "source": []
  },
  {
   "cell_type": "code",
   "execution_count": null,
   "id": "1debce04-b55d-4396-989f-d6a70b5b13c3",
   "metadata": {},
   "outputs": [],
   "source": []
  },
  {
   "cell_type": "code",
   "execution_count": null,
   "id": "08c61442-2f31-45ac-b259-c728217b51be",
   "metadata": {},
   "outputs": [],
   "source": []
  },
  {
   "cell_type": "code",
   "execution_count": null,
   "id": "38f1229c-ac51-4866-a2b5-177d26409fca",
   "metadata": {},
   "outputs": [],
   "source": []
  },
  {
   "cell_type": "code",
   "execution_count": null,
   "id": "1f9f70d7-ea62-465a-a25f-3bc4f3dd2316",
   "metadata": {},
   "outputs": [],
   "source": []
  },
  {
   "cell_type": "code",
   "execution_count": null,
   "id": "efa4cf5d-fa3b-4d83-a1f9-7455dd2644c9",
   "metadata": {},
   "outputs": [],
   "source": []
  },
  {
   "cell_type": "code",
   "execution_count": null,
   "id": "c62656f7-1c70-4d8c-859b-1b44a9d3bcbd",
   "metadata": {},
   "outputs": [],
   "source": []
  },
  {
   "cell_type": "code",
   "execution_count": null,
   "id": "fb162371-9f07-41a7-86e0-35af84252a0b",
   "metadata": {},
   "outputs": [],
   "source": []
  }
 ],
 "metadata": {
  "kernelspec": {
   "display_name": "Python 3 (ipykernel)",
   "language": "python",
   "name": "python3"
  },
  "language_info": {
   "codemirror_mode": {
    "name": "ipython",
    "version": 3
   },
   "file_extension": ".py",
   "mimetype": "text/x-python",
   "name": "python",
   "nbconvert_exporter": "python",
   "pygments_lexer": "ipython3",
   "version": "3.11.7"
  }
 },
 "nbformat": 4,
 "nbformat_minor": 5
}
